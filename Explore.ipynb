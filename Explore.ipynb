{
  "cells": [
    {
      "metadata": {
        "trusted": true
      },
      "cell_type": "code",
      "source": "# Install required packages (need to include this for all of the tansman code)\n!pip install --upgrade pip\n!pip install pulp",
      "execution_count": 31,
      "outputs": [
        {
          "output_type": "stream",
          "text": "Requirement already up-to-date: pip in /home/nbuser/anaconda3_501/lib/python3.6/site-packages (20.0.2)\nRequirement already satisfied: pulp in /home/nbuser/anaconda3_501/lib/python3.6/site-packages (2.0)\nRequirement already satisfied: pyparsing>=2.0.1 in /home/nbuser/anaconda3_501/lib/python3.6/site-packages (from pulp) (2.3.0)\n",
          "name": "stdout"
        }
      ]
    },
    {
      "metadata": {
        "trusted": true
      },
      "cell_type": "code",
      "source": "# Make sure it can find modules in the project directory (always include this too)\nimport sys\nsys.path.append('/home/nbuser/library/')\n# Doing this here rather than in config file so I don't make any assumptions about \n# the environment somebody is using in a cloned version of this project\n%load_ext autoreload\n%autoreload 2\n# Uses pulp\nimport pulp\n# My models, derived from pulp.LpProblem\nfrom models import *",
      "execution_count": 32,
      "outputs": [
        {
          "output_type": "stream",
          "text": "The autoreload extension is already loaded. To reload it, use:\n  %reload_ext autoreload\n",
          "name": "stdout"
        }
      ]
    },
    {
      "metadata": {},
      "cell_type": "markdown",
      "source": "## Tansman Music Practice Scheduler\n\nGeneric exploration notebook.\n\n**Indices**\n$i \\in \\{0, 1,  \\ldots, n_{items}-1 \\}$;\n$t \\in \\{0, 1, \\ldots, n_{slots}-1 \\}$;\n$t_\\delta \\in \\{0, 1, \\ldots, WINDOWSIZE\\}$\n\nSee below for the use of $t_\\delta$ and $WINDOWSIZE$ to express \nlimits on practice \"density\".\n\n**Data**\n\n\\begin{align}\nn_{items}              &&\\text{Number of items to schedule} \\\\\nn_{slots}              &&\\text{Number of time slots available} \\\\\nENERGYUSED_i           &&\\text{Amount of mental \"energy\" per chunk for task i}\\\\\nTIMEAVAILABLE_t        &&\\text{Time available duringslot t (chunks per day)} \\\\\nTIMEPERITEM_i          &&\\text{Practice time needed to master item i} \\\\\nMINPERWINDOW           &&\\text{Min. number of slots within a window (days)} \\\\\nMAXPERWINDOW           &&\\text{Max. number of slots for item i within a window (days)} \\\\\nWINDOWSIZE             &&\\text{Used with above to specify \"density\" constraints}\\\\\n\\end{align}"
    },
    {
      "metadata": {
        "trusted": true
      },
      "cell_type": "code",
      "source": "sample_parameters = model_parameters(n_items=4,        # Four practice items\n                       time_available=[2]*50,          # Time slots for first 50 days\n                       time_per_item=[2, 2, 2, 2],     # Number of practice slots required \n                       fun_per_item=[1, 1, 2, 2],      # Fun scores (FIXME: use energy model)\n                       window_size=2,                  # Window size to use\n                       min_practice_per_window=0,      # Zero practice per window is acceptable\n                       max_practice_per_window=1)      # But no more than 1 in 2 in window\n\n\nsample_parameters2 = model_parameters(n_items=4,\n                       time_available=[2]*50,\n                       time_per_item=[2]*25,\n                       fun_per_item=[1, 1, 2, 2],\n                       window_size=2,\n                       min_practice_per_window=0,\n                       max_practice_per_window=1)\n\n\nsolver = solve(**sample_parameters)\nshow_solution(solver)",
      "execution_count": 19,
      "outputs": [
        {
          "output_type": "stream",
          "text": "WARNING:root:Infeasible. No solution for n_items=4 and n_slots=1. Increase time available?\nWARNING:root:Infeasible. No solution for n_items=4 and n_slots=2. Increase time available?\nWARNING:root:Infeasible. No solution for n_items=4 and n_slots=3. Increase time available?\n",
          "name": "stderr"
        },
        {
          "output_type": "stream",
          "text": "Schedule starting tomorrow:\n     name  04/01  04/02  04/03  04/04\n0  item_0    0.0    1.0    0.0    1.0\n1  item_1    1.0    0.0    1.0    0.0\n2  item_2    0.0    1.0    0.0    1.0\n3  item_3    1.0    0.0    1.0    0.0\nFun by item\n[3.0, 3.0, 3.0, 3.0] Total of 12.0\nTimeliness by item\n[1.0, 2.0, 1.0, 2.0] Total of 6.0\nTotal time by item\n[2.0, 2.0, 2.0, 2.0] Total of 8.0\nObjective function z = 10.0\nEfficiency is 8.0/8 = 1.0\n",
          "name": "stdout"
        }
      ]
    },
    {
      "metadata": {
        "trusted": true
      },
      "cell_type": "code",
      "source": "import models",
      "execution_count": 5,
      "outputs": []
    },
    {
      "metadata": {
        "trusted": true
      },
      "cell_type": "code",
      "source": "models._config",
      "execution_count": 6,
      "outputs": [
        {
          "output_type": "execute_result",
          "execution_count": 6,
          "data": {
            "text/plain": "<function models._config(**kwargs)>"
          },
          "metadata": {}
        }
      ]
    },
    {
      "metadata": {
        "trusted": true
      },
      "cell_type": "code",
      "source": "models.model_parameters",
      "execution_count": 7,
      "outputs": [
        {
          "output_type": "error",
          "ename": "AttributeError",
          "evalue": "module 'models' has no attribute 'model_parameters'",
          "traceback": [
            "\u001b[0;31m---------------------------------------------------------------------------\u001b[0m",
            "\u001b[0;31mAttributeError\u001b[0m                            Traceback (most recent call last)",
            "\u001b[0;32m<ipython-input-7-7b9fdc223382>\u001b[0m in \u001b[0;36m<module>\u001b[0;34m\u001b[0m\n\u001b[0;32m----> 1\u001b[0;31m \u001b[0mmodels\u001b[0m\u001b[0;34m.\u001b[0m\u001b[0mmodel_parameters\u001b[0m\u001b[0;34m\u001b[0m\u001b[0m\n\u001b[0m",
            "\u001b[0;31mAttributeError\u001b[0m: module 'models' has no attribute 'model_parameters'"
          ]
        }
      ]
    },
    {
      "metadata": {
        "trusted": true
      },
      "cell_type": "code",
      "source": "",
      "execution_count": null,
      "outputs": []
    }
  ],
  "metadata": {
    "kernelspec": {
      "name": "python36",
      "display_name": "Python 3.6",
      "language": "python"
    },
    "language_info": {
      "mimetype": "text/x-python",
      "nbconvert_exporter": "python",
      "name": "python",
      "pygments_lexer": "ipython3",
      "version": "3.6.6",
      "file_extension": ".py",
      "codemirror_mode": {
        "version": 3,
        "name": "ipython"
      }
    }
  },
  "nbformat": 4,
  "nbformat_minor": 2
}