{
  "cells": [
    {
      "metadata": {},
      "cell_type": "markdown",
      "source": "# Tansman Scheduler Project\nGeneric exploration and example notebook."
    },
    {
      "metadata": {
        "trusted": true
      },
      "cell_type": "code",
      "source": "# Install required packages (need to include this for all of the tansman code)\n!pip install --upgrade pip\n!pip install pulp\n# Doing this here rather than in config file so I don't make any assumptions about \n# the environment somebody is using in a cloned version of this project\n%load_ext autoreload\n%autoreload 2\n# Make sure it can find modules in the project directory (always include this too)\nimport sys\nsys.path.append('/home/nbuser/library/')",
      "execution_count": 33,
      "outputs": [
        {
          "output_type": "stream",
          "text": "Requirement already up-to-date: pip in /home/nbuser/anaconda3_501/lib/python3.6/site-packages (20.0.2)\nRequirement already satisfied: pulp in /home/nbuser/anaconda3_501/lib/python3.6/site-packages (2.0)\nRequirement already satisfied: pyparsing>=2.0.1 in /home/nbuser/anaconda3_501/lib/python3.6/site-packages (from pulp) (2.3.0)\nThe autoreload extension is already loaded. To reload it, use:\n  %reload_ext autoreload\n",
          "name": "stdout"
        }
      ]
    },
    {
      "metadata": {},
      "cell_type": "markdown",
      "source": "## Indices and Data\n\n**Indices**\n$i \\in \\{0, 1,  \\ldots, n_{items}-1 \\}$;\n$t \\in \\{0, 1, \\ldots, n_{slots}-1 \\}$;\n$t_\\delta \\in \\{0, 1, \\ldots, WINDOWSIZE\\}$\n\nSee below for the use of $t_\\delta$ and $WINDOWSIZE$ to express \nlimits on practice \"density\".\n\n**Data**\n\\begin{align*}\nn_{items}             && \\text{Number of items to schedule} \\\\\nn_{slots}             && \\text{Number of time slots available} \\\\\nENERGYUSED_i          && \\text{Amount of mental \"energy\" required per chunk of practice time for task i} \\\\\nTIMEAVAILABLE_t       && \\text{Time available during a training slot $t$ (chunks per day)} \\\\\nTIMEPERITEM_i         && \\text{Practice time needed to master item $i$} \\\\\nMINPERWINDOW  && \\text{Minimum number of training slots for item $i$ within a window (days)} \\\\\nMAXPERWINDOW  && \\text{Maximum number of training slots for item $i$ within a window (days)} \\\\\nWINDOWSIZE            && \\text{Used to express minimum and maximum \"density\" of practice days (days)}\\\\\n\\end{align*}"
    },
    {
      "metadata": {
        "trusted": true
      },
      "cell_type": "code",
      "source": "# Uses pulp and my models module\nimport pulp\nfrom models import *",
      "execution_count": 66,
      "outputs": []
    },
    {
      "metadata": {
        "trusted": true
      },
      "cell_type": "code",
      "source": "sample_parameters = model_parameters(n_items=4,        # Four practice items\n                       time_available=[2]*50,          # Time slots for first 50 days\n                       time_per_item=[2, 2, 2, 2],     # Number of practice slots required \n                       fun_per_item=[1, 1, 2, 2],      # Fun scores (FIXME: use energy model)\n                       window_size=2,                  # Window size to use\n                       min_practice_per_window=0,      # Zero practice per window is acceptable\n                       max_practice_per_window=1)      # But no more than 1 in 2 in window\n\nsolver = solve(**sample_parameters)\nshow_solution(solver)",
      "execution_count": 37,
      "outputs": [
        {
          "output_type": "stream",
          "text": "WARNING:root:Infeasible. No solution for n_items=4 and n_slots=1.\nWARNING:root:Infeasible. No solution for n_items=4 and n_slots=2.\nWARNING:root:Infeasible. No solution for n_items=4 and n_slots=3.\n",
          "name": "stderr"
        },
        {
          "output_type": "stream",
          "text": "Schedule starting tomorrow:\n     name  04/01  04/02  04/03  04/04\n0  item_0    0.0    1.0    0.0    1.0\n1  item_1    1.0    0.0    1.0    0.0\n2  item_2    0.0    1.0    0.0    1.0\n3  item_3    1.0    0.0    1.0    0.0\nFun by item\n[3.0, 3.0, 3.0, 3.0] Total of 12.0\nTimeliness by item\n[1.0, 2.0, 1.0, 2.0] Total of 6.0\nTotal time by item\n[2.0, 2.0, 2.0, 2.0] Total of 8.0\nObjective function z = 10.0\nEfficiency is 8.0/8 = 1.0\n",
          "name": "stdout"
        }
      ]
    },
    {
      "metadata": {
        "trusted": true
      },
      "cell_type": "code",
      "source": "def color_cell(val):\n    bg = 'white'\n    fg = 'black'\n    if type(val) is not str:\n        bg = \"lightgray\"\n        if val > 0:\n            bg = 'green'\n            fg = 'white'\n    return \"background: {}; color: {}\".format(bg, fg)\n_df = solver.get_solution_as_df().set_index([\"name\"])\n_df.style.applymap(color_cell)",
      "execution_count": 65,
      "outputs": [
        {
          "output_type": "execute_result",
          "execution_count": 65,
          "data": {
            "text/html": "<style  type=\"text/css\" >\n    #T_1c985412_7394_11ea_900b_00155d4990b9row0_col0 {\n            background:  lightgray;\n             color:  black;\n        }    #T_1c985412_7394_11ea_900b_00155d4990b9row0_col1 {\n            background:  green;\n             color:  white;\n        }    #T_1c985412_7394_11ea_900b_00155d4990b9row0_col2 {\n            background:  lightgray;\n             color:  black;\n        }    #T_1c985412_7394_11ea_900b_00155d4990b9row0_col3 {\n            background:  green;\n             color:  white;\n        }    #T_1c985412_7394_11ea_900b_00155d4990b9row1_col0 {\n            background:  green;\n             color:  white;\n        }    #T_1c985412_7394_11ea_900b_00155d4990b9row1_col1 {\n            background:  lightgray;\n             color:  black;\n        }    #T_1c985412_7394_11ea_900b_00155d4990b9row1_col2 {\n            background:  green;\n             color:  white;\n        }    #T_1c985412_7394_11ea_900b_00155d4990b9row1_col3 {\n            background:  lightgray;\n             color:  black;\n        }    #T_1c985412_7394_11ea_900b_00155d4990b9row2_col0 {\n            background:  lightgray;\n             color:  black;\n        }    #T_1c985412_7394_11ea_900b_00155d4990b9row2_col1 {\n            background:  green;\n             color:  white;\n        }    #T_1c985412_7394_11ea_900b_00155d4990b9row2_col2 {\n            background:  lightgray;\n             color:  black;\n        }    #T_1c985412_7394_11ea_900b_00155d4990b9row2_col3 {\n            background:  green;\n             color:  white;\n        }    #T_1c985412_7394_11ea_900b_00155d4990b9row3_col0 {\n            background:  green;\n             color:  white;\n        }    #T_1c985412_7394_11ea_900b_00155d4990b9row3_col1 {\n            background:  lightgray;\n             color:  black;\n        }    #T_1c985412_7394_11ea_900b_00155d4990b9row3_col2 {\n            background:  green;\n             color:  white;\n        }    #T_1c985412_7394_11ea_900b_00155d4990b9row3_col3 {\n            background:  lightgray;\n             color:  black;\n        }</style>  \n<table id=\"T_1c985412_7394_11ea_900b_00155d4990b9\" > \n<thead>    <tr> \n        <th class=\"blank level0\" ></th> \n        <th class=\"col_heading level0 col0\" >04/01</th> \n        <th class=\"col_heading level0 col1\" >04/02</th> \n        <th class=\"col_heading level0 col2\" >04/03</th> \n        <th class=\"col_heading level0 col3\" >04/04</th> \n    </tr>    <tr> \n        <th class=\"index_name level0\" >name</th> \n        <th class=\"blank\" ></th> \n        <th class=\"blank\" ></th> \n        <th class=\"blank\" ></th> \n        <th class=\"blank\" ></th> \n    </tr></thead> \n<tbody>    <tr> \n        <th id=\"T_1c985412_7394_11ea_900b_00155d4990b9level0_row0\" class=\"row_heading level0 row0\" >item_0</th> \n        <td id=\"T_1c985412_7394_11ea_900b_00155d4990b9row0_col0\" class=\"data row0 col0\" >0</td> \n        <td id=\"T_1c985412_7394_11ea_900b_00155d4990b9row0_col1\" class=\"data row0 col1\" >1</td> \n        <td id=\"T_1c985412_7394_11ea_900b_00155d4990b9row0_col2\" class=\"data row0 col2\" >0</td> \n        <td id=\"T_1c985412_7394_11ea_900b_00155d4990b9row0_col3\" class=\"data row0 col3\" >1</td> \n    </tr>    <tr> \n        <th id=\"T_1c985412_7394_11ea_900b_00155d4990b9level0_row1\" class=\"row_heading level0 row1\" >item_1</th> \n        <td id=\"T_1c985412_7394_11ea_900b_00155d4990b9row1_col0\" class=\"data row1 col0\" >1</td> \n        <td id=\"T_1c985412_7394_11ea_900b_00155d4990b9row1_col1\" class=\"data row1 col1\" >0</td> \n        <td id=\"T_1c985412_7394_11ea_900b_00155d4990b9row1_col2\" class=\"data row1 col2\" >1</td> \n        <td id=\"T_1c985412_7394_11ea_900b_00155d4990b9row1_col3\" class=\"data row1 col3\" >0</td> \n    </tr>    <tr> \n        <th id=\"T_1c985412_7394_11ea_900b_00155d4990b9level0_row2\" class=\"row_heading level0 row2\" >item_2</th> \n        <td id=\"T_1c985412_7394_11ea_900b_00155d4990b9row2_col0\" class=\"data row2 col0\" >0</td> \n        <td id=\"T_1c985412_7394_11ea_900b_00155d4990b9row2_col1\" class=\"data row2 col1\" >1</td> \n        <td id=\"T_1c985412_7394_11ea_900b_00155d4990b9row2_col2\" class=\"data row2 col2\" >0</td> \n        <td id=\"T_1c985412_7394_11ea_900b_00155d4990b9row2_col3\" class=\"data row2 col3\" >1</td> \n    </tr>    <tr> \n        <th id=\"T_1c985412_7394_11ea_900b_00155d4990b9level0_row3\" class=\"row_heading level0 row3\" >item_3</th> \n        <td id=\"T_1c985412_7394_11ea_900b_00155d4990b9row3_col0\" class=\"data row3 col0\" >1</td> \n        <td id=\"T_1c985412_7394_11ea_900b_00155d4990b9row3_col1\" class=\"data row3 col1\" >0</td> \n        <td id=\"T_1c985412_7394_11ea_900b_00155d4990b9row3_col2\" class=\"data row3 col2\" >1</td> \n        <td id=\"T_1c985412_7394_11ea_900b_00155d4990b9row3_col3\" class=\"data row3 col3\" >0</td> \n    </tr></tbody> \n</table> ",
            "text/plain": "<pandas.io.formats.style.Styler at 0x7f32076e8898>"
          },
          "metadata": {}
        }
      ]
    },
    {
      "metadata": {
        "trusted": true
      },
      "cell_type": "code",
      "source": "",
      "execution_count": null,
      "outputs": []
    }
  ],
  "metadata": {
    "kernelspec": {
      "name": "python36",
      "display_name": "Python 3.6",
      "language": "python"
    },
    "language_info": {
      "mimetype": "text/x-python",
      "nbconvert_exporter": "python",
      "name": "python",
      "pygments_lexer": "ipython3",
      "version": "3.6.6",
      "file_extension": ".py",
      "codemirror_mode": {
        "version": 3,
        "name": "ipython"
      }
    }
  },
  "nbformat": 4,
  "nbformat_minor": 2
}