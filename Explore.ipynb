{
 "cells": [
  {
   "cell_type": "markdown",
   "metadata": {},
   "source": [
    "# Tansman Scheduler Project\n",
    "Generic exploration and example notebook."
   ]
  },
  {
   "cell_type": "code",
   "execution_count": 1,
   "metadata": {},
   "outputs": [
    {
     "name": "stdout",
     "output_type": "stream",
     "text": [
      "WARNING: pip is being invoked by an old script wrapper. This will fail in a future version of pip.\n",
      "Please see https://github.com/pypa/pip/issues/5599 for advice on fixing the underlying issue.\n",
      "To avoid this problem you can invoke Python with '-m pip' instead of running pip directly.\n",
      "Requirement already up-to-date: pip in /anaconda3/envs/pulp/lib/python3.7/site-packages (20.0.2)\n",
      "WARNING: pip is being invoked by an old script wrapper. This will fail in a future version of pip.\n",
      "Please see https://github.com/pypa/pip/issues/5599 for advice on fixing the underlying issue.\n",
      "To avoid this problem you can invoke Python with '-m pip' instead of running pip directly.\n",
      "Requirement already satisfied: pulp in /anaconda3/envs/pulp/lib/python3.7/site-packages (1.6.8)\n",
      "Requirement already satisfied: pyparsing>=2.0.1 in /anaconda3/envs/pulp/lib/python3.7/site-packages (from pulp) (2.4.6)\n",
      "The autoreload extension is already loaded. To reload it, use:\n",
      "  %reload_ext autoreload\n"
     ]
    }
   ],
   "source": [
    "# Install required packages (need to include this for all of the tansman code)\n",
    "!pip install --upgrade pip\n",
    "!pip install pulp\n",
    "# Doing this here rather than in config file so I don't make any assumptions about \n",
    "# the environment somebody is using in a cloned version of this project\n",
    "%load_ext autoreload\n",
    "%autoreload 2\n",
    "# Make sure it can find modules in the project directory (always include this too)\n",
    "import sys\n",
    "sys.path.append('/home/nbuser/library/')"
   ]
  },
  {
   "cell_type": "markdown",
   "metadata": {},
   "source": [
    "## Indices and Data\n",
    "\n",
    "**Indices**\n",
    "$i \\in \\{0, 1,  \\ldots, n_{items}-1 \\}$;\n",
    "$t \\in \\{0, 1, \\ldots, n_{slots}-1 \\}$;\n",
    "$t_\\delta \\in \\{0, 1, \\ldots, WINDOWSIZE\\}$\n",
    "\n",
    "See below for the use of $t_\\delta$ and $WINDOWSIZE$ to express \n",
    "limits on practice \"density\".\n",
    "\n",
    "**Data**\n",
    "\\begin{align*}\n",
    "n_{items}             && \\text{Number of items to schedule} \\\\\n",
    "n_{slots}             && \\text{Number of time slots available} \\\\\n",
    "ENERGYUSED_i          && \\text{Amount of mental \"energy\" required per chunk of practice time for task i} \\\\\n",
    "TIMEAVAILABLE_t       && \\text{Time available during a training slot $t$ (chunks per day)} \\\\\n",
    "TIMEPERITEM_i         && \\text{Practice time needed to master item $i$} \\\\\n",
    "MINPERWINDOW  && \\text{Minimum number of training slots for item $i$ within a window (days)} \\\\\n",
    "MAXPERWINDOW  && \\text{Maximum number of training slots for item $i$ within a window (days)} \\\\\n",
    "WINDOWSIZE            && \\text{Used to express minimum and maximum \"density\" of practice days (days)}\\\\\n",
    "\\end{align*}"
   ]
  },
  {
   "cell_type": "code",
   "execution_count": 2,
   "metadata": {},
   "outputs": [],
   "source": [
    "# Uses pulp and my models module\n",
    "import pulp\n",
    "from models import *"
   ]
  },
  {
   "cell_type": "code",
   "execution_count": 3,
   "metadata": {},
   "outputs": [
    {
     "name": "stderr",
     "output_type": "stream",
     "text": [
      "WARNING:root:Infeasible. No solution for n_items=4 and n_slots=1.\n",
      "WARNING:root:Infeasible. No solution for n_items=4 and n_slots=2.\n",
      "WARNING:root:Infeasible. No solution for n_items=4 and n_slots=3.\n"
     ]
    },
    {
     "name": "stdout",
     "output_type": "stream",
     "text": [
      "Schedule starting tomorrow:\n",
      "     name  04/02  04/03  04/04  04/05\n",
      "0  item_0    0.0    1.0    0.0    1.0\n",
      "1  item_1    1.0    0.0    1.0    0.0\n",
      "2  item_2    0.0    1.0    0.0    1.0\n",
      "3  item_3    1.0    0.0    1.0    0.0\n",
      "Fun by item\n",
      "[3.0, 3.0, 3.0, 3.0] Total of 12.0\n",
      "Timeliness by item\n",
      "[1.0, 2.0, 1.0, 2.0] Total of 6.0\n",
      "Total time by item\n",
      "[2.0, 2.0, 2.0, 2.0] Total of 8.0\n",
      "Objective function z = 10.0\n",
      "Efficiency is 8.0/8 = 1.0\n"
     ]
    }
   ],
   "source": [
    "sample_parameters = model_parameters(n_items=4,        # Four practice items\n",
    "                       time_available=[2]*50,          # Time slots for first 50 days\n",
    "                       time_per_item=[2, 2, 2, 2],     # Number of practice slots required \n",
    "                       fun_per_item=[1, 1, 2, 2],      # Fun scores (FIXME: use energy model)\n",
    "                       window_size=2,                  # Window size to use\n",
    "                       min_practice_per_window=0,      # Zero practice per window is acceptable\n",
    "                       max_practice_per_window=1)      # But no more than 1 in 2 in window\n",
    "\n",
    "solver = solve(**sample_parameters)\n",
    "show_solution(solver)"
   ]
  },
  {
   "cell_type": "code",
   "execution_count": 4,
   "metadata": {},
   "outputs": [
    {
     "data": {
      "text/html": [
       "<style  type=\"text/css\" >\n",
       "    #T_81631580_746b_11ea_9287_acde48001122row0_col0 {\n",
       "            background:  lightgray;\n",
       "             color:  black;\n",
       "        }    #T_81631580_746b_11ea_9287_acde48001122row0_col1 {\n",
       "            background:  green;\n",
       "             color:  white;\n",
       "        }    #T_81631580_746b_11ea_9287_acde48001122row0_col2 {\n",
       "            background:  lightgray;\n",
       "             color:  black;\n",
       "        }    #T_81631580_746b_11ea_9287_acde48001122row0_col3 {\n",
       "            background:  green;\n",
       "             color:  white;\n",
       "        }    #T_81631580_746b_11ea_9287_acde48001122row1_col0 {\n",
       "            background:  green;\n",
       "             color:  white;\n",
       "        }    #T_81631580_746b_11ea_9287_acde48001122row1_col1 {\n",
       "            background:  lightgray;\n",
       "             color:  black;\n",
       "        }    #T_81631580_746b_11ea_9287_acde48001122row1_col2 {\n",
       "            background:  green;\n",
       "             color:  white;\n",
       "        }    #T_81631580_746b_11ea_9287_acde48001122row1_col3 {\n",
       "            background:  lightgray;\n",
       "             color:  black;\n",
       "        }    #T_81631580_746b_11ea_9287_acde48001122row2_col0 {\n",
       "            background:  lightgray;\n",
       "             color:  black;\n",
       "        }    #T_81631580_746b_11ea_9287_acde48001122row2_col1 {\n",
       "            background:  green;\n",
       "             color:  white;\n",
       "        }    #T_81631580_746b_11ea_9287_acde48001122row2_col2 {\n",
       "            background:  lightgray;\n",
       "             color:  black;\n",
       "        }    #T_81631580_746b_11ea_9287_acde48001122row2_col3 {\n",
       "            background:  green;\n",
       "             color:  white;\n",
       "        }    #T_81631580_746b_11ea_9287_acde48001122row3_col0 {\n",
       "            background:  green;\n",
       "             color:  white;\n",
       "        }    #T_81631580_746b_11ea_9287_acde48001122row3_col1 {\n",
       "            background:  lightgray;\n",
       "             color:  black;\n",
       "        }    #T_81631580_746b_11ea_9287_acde48001122row3_col2 {\n",
       "            background:  green;\n",
       "             color:  white;\n",
       "        }    #T_81631580_746b_11ea_9287_acde48001122row3_col3 {\n",
       "            background:  lightgray;\n",
       "             color:  black;\n",
       "        }</style><table id=\"T_81631580_746b_11ea_9287_acde48001122\" ><thead>    <tr>        <th class=\"blank level0\" ></th>        <th class=\"col_heading level0 col0\" >04/02</th>        <th class=\"col_heading level0 col1\" >04/03</th>        <th class=\"col_heading level0 col2\" >04/04</th>        <th class=\"col_heading level0 col3\" >04/05</th>    </tr>    <tr>        <th class=\"index_name level0\" >name</th>        <th class=\"blank\" ></th>        <th class=\"blank\" ></th>        <th class=\"blank\" ></th>        <th class=\"blank\" ></th>    </tr></thead><tbody>\n",
       "                <tr>\n",
       "                        <th id=\"T_81631580_746b_11ea_9287_acde48001122level0_row0\" class=\"row_heading level0 row0\" >item_0</th>\n",
       "                        <td id=\"T_81631580_746b_11ea_9287_acde48001122row0_col0\" class=\"data row0 col0\" >0.000000</td>\n",
       "                        <td id=\"T_81631580_746b_11ea_9287_acde48001122row0_col1\" class=\"data row0 col1\" >1.000000</td>\n",
       "                        <td id=\"T_81631580_746b_11ea_9287_acde48001122row0_col2\" class=\"data row0 col2\" >0.000000</td>\n",
       "                        <td id=\"T_81631580_746b_11ea_9287_acde48001122row0_col3\" class=\"data row0 col3\" >1.000000</td>\n",
       "            </tr>\n",
       "            <tr>\n",
       "                        <th id=\"T_81631580_746b_11ea_9287_acde48001122level0_row1\" class=\"row_heading level0 row1\" >item_1</th>\n",
       "                        <td id=\"T_81631580_746b_11ea_9287_acde48001122row1_col0\" class=\"data row1 col0\" >1.000000</td>\n",
       "                        <td id=\"T_81631580_746b_11ea_9287_acde48001122row1_col1\" class=\"data row1 col1\" >0.000000</td>\n",
       "                        <td id=\"T_81631580_746b_11ea_9287_acde48001122row1_col2\" class=\"data row1 col2\" >1.000000</td>\n",
       "                        <td id=\"T_81631580_746b_11ea_9287_acde48001122row1_col3\" class=\"data row1 col3\" >0.000000</td>\n",
       "            </tr>\n",
       "            <tr>\n",
       "                        <th id=\"T_81631580_746b_11ea_9287_acde48001122level0_row2\" class=\"row_heading level0 row2\" >item_2</th>\n",
       "                        <td id=\"T_81631580_746b_11ea_9287_acde48001122row2_col0\" class=\"data row2 col0\" >0.000000</td>\n",
       "                        <td id=\"T_81631580_746b_11ea_9287_acde48001122row2_col1\" class=\"data row2 col1\" >1.000000</td>\n",
       "                        <td id=\"T_81631580_746b_11ea_9287_acde48001122row2_col2\" class=\"data row2 col2\" >0.000000</td>\n",
       "                        <td id=\"T_81631580_746b_11ea_9287_acde48001122row2_col3\" class=\"data row2 col3\" >1.000000</td>\n",
       "            </tr>\n",
       "            <tr>\n",
       "                        <th id=\"T_81631580_746b_11ea_9287_acde48001122level0_row3\" class=\"row_heading level0 row3\" >item_3</th>\n",
       "                        <td id=\"T_81631580_746b_11ea_9287_acde48001122row3_col0\" class=\"data row3 col0\" >1.000000</td>\n",
       "                        <td id=\"T_81631580_746b_11ea_9287_acde48001122row3_col1\" class=\"data row3 col1\" >0.000000</td>\n",
       "                        <td id=\"T_81631580_746b_11ea_9287_acde48001122row3_col2\" class=\"data row3 col2\" >1.000000</td>\n",
       "                        <td id=\"T_81631580_746b_11ea_9287_acde48001122row3_col3\" class=\"data row3 col3\" >0.000000</td>\n",
       "            </tr>\n",
       "    </tbody></table>"
      ],
      "text/plain": [
       "<pandas.io.formats.style.Styler at 0x11b5174d0>"
      ]
     },
     "execution_count": 4,
     "metadata": {},
     "output_type": "execute_result"
    }
   ],
   "source": [
    "def color_cell(val):\n",
    "    bg = 'white'\n",
    "    fg = 'black'\n",
    "    if type(val) is not str:\n",
    "        bg = \"lightgray\"\n",
    "        if val > 0:\n",
    "            bg = 'green'\n",
    "            fg = 'white'\n",
    "    return \"background: {}; color: {}\".format(bg, fg)\n",
    "_df = solver.get_solution_as_df().set_index([\"name\"])\n",
    "_df.style.applymap(color_cell)"
   ]
  },
  {
   "cell_type": "code",
   "execution_count": null,
   "metadata": {},
   "outputs": [],
   "source": []
  }
 ],
 "metadata": {
  "kernelspec": {
   "display_name": "Python 3",
   "language": "python",
   "name": "python3"
  },
  "language_info": {
   "codemirror_mode": {
    "name": "ipython",
    "version": 3
   },
   "file_extension": ".py",
   "mimetype": "text/x-python",
   "name": "python",
   "nbconvert_exporter": "python",
   "pygments_lexer": "ipython3",
   "version": "3.7.6"
  }
 },
 "nbformat": 4,
 "nbformat_minor": 2
}
